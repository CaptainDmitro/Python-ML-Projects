{
  "nbformat": 4,
  "nbformat_minor": 0,
  "metadata": {
    "colab": {
      "name": "lr6.ipynb",
      "provenance": [],
      "collapsed_sections": []
    },
    "kernelspec": {
      "name": "python3",
      "display_name": "Python 3"
    },
    "language_info": {
      "name": "python"
    },
    "accelerator": "GPU"
  },
  "cells": [
    {
      "cell_type": "code",
      "execution_count": null,
      "metadata": {
        "id": "fgWizI1h46uM"
      },
      "outputs": [],
      "source": [
        "%matplotlib inline\n",
        "import matplotlib\n",
        "import matplotlib.pyplot as plt\n",
        "import numpy as np\n",
        "from tensorflow.keras.utils import to_categorical\n",
        "from keras.datasets import imdb\n",
        "import tensorflow as tf\n",
        "from tensorflow import keras\n",
        "from tensorflow.keras import layers"
      ]
    },
    {
      "cell_type": "code",
      "source": [
        "(training_data, training_targets), (testing_data, testing_targets) = imdb.load_data(num_words=10000)\n",
        "data = np.concatenate((training_data, testing_data), axis=0)\n",
        "targets = np.concatenate((training_targets, testing_targets), axis=0)"
      ],
      "metadata": {
        "id": "CPjigYO95bcc"
      },
      "execution_count": null,
      "outputs": []
    },
    {
      "cell_type": "code",
      "source": [
        "print(\"Categories:\", np.unique(targets))\n",
        "print(\"Number of unique words:\", len(np.unique(np.hstack(data))))\n",
        "length = [len(i) for i in data]\n",
        "print(\"Average Review length:\", np.mean(length))\n",
        "print(\"Standard Deviation:\", round(np.std(length)))"
      ],
      "metadata": {
        "colab": {
          "base_uri": "https://localhost:8080/"
        },
        "id": "7kTJF3oF5pXu",
        "outputId": "d9e3c522-4fb8-4b74-d520-805d674d6f9e"
      },
      "execution_count": null,
      "outputs": [
        {
          "output_type": "stream",
          "name": "stdout",
          "text": [
            "Categories: [0 1]\n",
            "Number of unique words: 9998\n",
            "Average Review length: 234.75892\n",
            "Standard Deviation: 173\n",
            "Label: 1\n"
          ]
        }
      ]
    },
    {
      "cell_type": "code",
      "source": [
        "print(\"Label:\", targets[0])\n",
        "print(data[0])"
      ],
      "metadata": {
        "colab": {
          "base_uri": "https://localhost:8080/"
        },
        "id": "E2E_QIW152x_",
        "outputId": "ee49bb10-31fc-40ba-c631-3e3d702919fa"
      },
      "execution_count": null,
      "outputs": [
        {
          "output_type": "stream",
          "name": "stdout",
          "text": [
            "Label: 1\n",
            "[1, 14, 22, 16, 43, 530, 973, 1622, 1385, 65, 458, 4468, 66, 3941, 4, 173, 36, 256, 5, 25, 100, 43, 838, 112, 50, 670, 2, 9, 35, 480, 284, 5, 150, 4, 172, 112, 167, 2, 336, 385, 39, 4, 172, 4536, 1111, 17, 546, 38, 13, 447, 4, 192, 50, 16, 6, 147, 2025, 19, 14, 22, 4, 1920, 4613, 469, 4, 22, 71, 87, 12, 16, 43, 530, 38, 76, 15, 13, 1247, 4, 22, 17, 515, 17, 12, 16, 626, 18, 2, 5, 62, 386, 12, 8, 316, 8, 106, 5, 4, 2223, 5244, 16, 480, 66, 3785, 33, 4, 130, 12, 16, 38, 619, 5, 25, 124, 51, 36, 135, 48, 25, 1415, 33, 6, 22, 12, 215, 28, 77, 52, 5, 14, 407, 16, 82, 2, 8, 4, 107, 117, 5952, 15, 256, 4, 2, 7, 3766, 5, 723, 36, 71, 43, 530, 476, 26, 400, 317, 46, 7, 4, 2, 1029, 13, 104, 88, 4, 381, 15, 297, 98, 32, 2071, 56, 26, 141, 6, 194, 7486, 18, 4, 226, 22, 21, 134, 476, 26, 480, 5, 144, 30, 5535, 18, 51, 36, 28, 224, 92, 25, 104, 4, 226, 65, 16, 38, 1334, 88, 12, 16, 283, 5, 16, 4472, 113, 103, 32, 15, 16, 5345, 19, 178, 32]\n"
          ]
        }
      ]
    },
    {
      "cell_type": "code",
      "source": [
        "index = imdb.get_word_index()\n",
        "reverse_index = dict([(value, key) for (key, value) in index.items()])\n",
        "decoded = \" \".join( [reverse_index.get(i - 3, \"#\") for i in data[0]] )\n",
        "print(decoded)"
      ],
      "metadata": {
        "colab": {
          "base_uri": "https://localhost:8080/"
        },
        "id": "GHLB46BG6AsS",
        "outputId": "19fcf07a-e586-4dfd-b9ff-c701c250e134"
      },
      "execution_count": null,
      "outputs": [
        {
          "output_type": "stream",
          "name": "stdout",
          "text": [
            "Downloading data from https://storage.googleapis.com/tensorflow/tf-keras-datasets/imdb_word_index.json\n",
            "1646592/1641221 [==============================] - 0s 0us/step\n",
            "1654784/1641221 [==============================] - 0s 0us/step\n",
            "# this film was just brilliant casting location scenery story direction everyone's really suited the part they played and you could just imagine being there robert # is an amazing actor and now the same being director # father came from the same scottish island as myself so i loved the fact there was a real connection with this film the witty remarks throughout the film were great it was just brilliant so much that i bought the film as soon as it was released for # and would recommend it to everyone to watch and the fly fishing was amazing really cried at the end it was so sad and you know what they say if you cry at a film it must have been good and this definitely was also # to the two little boy's that played the # of norman and paul they were just brilliant children are often left out of the # list i think because the stars that play them all grown up are such a big profile for the whole film but these children are amazing and should be praised for what they have done don't you think the whole story was so lovely because it was true and was someone's life after all that was shared with us all\n"
          ]
        }
      ]
    },
    {
      "cell_type": "code",
      "source": [
        "def vectorize(sequences, dimension = 10000):\n",
        "  results = np.zeros((len(sequences), dimension))\n",
        "  for i, sequence in enumerate(sequences):\n",
        "    results[i, sequence] = 1\n",
        "  return results"
      ],
      "metadata": {
        "id": "ECuPSJ0v6G-z"
      },
      "execution_count": null,
      "outputs": []
    },
    {
      "cell_type": "code",
      "source": [
        "data = vectorize(data)\n",
        "targets = np.array(targets).astype(\"float32\")"
      ],
      "metadata": {
        "id": "q-0iR27F74x5"
      },
      "execution_count": null,
      "outputs": []
    },
    {
      "cell_type": "code",
      "source": [
        "test_x = data[:10000]\n",
        "test_y = targets[:10000]\n",
        "train_x = data[10000:]\n",
        "train_y = targets[10000:]"
      ],
      "metadata": {
        "id": "wA-Equq56L4N"
      },
      "execution_count": null,
      "outputs": []
    },
    {
      "cell_type": "code",
      "source": [
        "def getModel(num = 10000):\n",
        "  (training_data, training_targets), (testing_data, testing_targets) = imdb.load_data(num_words=num)\n",
        "  data = np.concatenate((training_data, testing_data), axis=0)\n",
        "  targets = np.concatenate((training_targets, testing_targets), axis=0)\n",
        "\n",
        "  index = imdb.get_word_index()\n",
        "  reverse_index = dict([(value, key) for (key, value) in index.items()])\n",
        "  decoded = \" \".join( [reverse_index.get(i - 3, \"#\") for i in data[0]] )\n",
        "\n",
        "  data = vectorize(data, num)\n",
        "  targets = np.array(targets).astype(\"float32\")\n",
        "\n",
        "  test_x = data[:num]\n",
        "  test_y = targets[:num]\n",
        "  train_x = data[num:]\n",
        "  train_y = targets[num:]\n",
        "\n",
        "  model = keras.Sequential()\n",
        "  # Input - Layer\n",
        "  model.add(layers.Dense(50, activation = \"relu\", input_shape=(num, )))\n",
        "  # Hidden - Layers\n",
        "  model.add(layers.Dropout(0.3, noise_shape=None, seed=None))\n",
        "  model.add(layers.Dense(50, activation = \"relu\"))\n",
        "  model.add(layers.Dropout(0.2, noise_shape=None, seed=None))\n",
        "  model.add(layers.Dense(50, activation = \"relu\"))\n",
        "  # Output- Layer\n",
        "  model.add(layers.Dense(1, activation=\"sigmoid\"))\n",
        "  model.summary()\n",
        "\n",
        "  model.compile(optimizer = \"adam\", loss = \"binary_crossentropy\", metrics = [\"accuracy\"])\n",
        "  results = model.fit(train_x, train_y, epochs= 2, batch_size = 500, validation_data = (test_x, test_y))\n",
        "  \n",
        "  return results"
      ],
      "metadata": {
        "id": "dAagF5ew6SWx"
      },
      "execution_count": null,
      "outputs": []
    },
    {
      "cell_type": "markdown",
      "source": [
        "---\n",
        "**Модель 1**\n",
        "\n",
        "> Длина: 10 000\n",
        "\n",
        "> Точность: 0.9189"
      ],
      "metadata": {
        "id": "HbUtmmBnEU9T"
      }
    },
    {
      "cell_type": "code",
      "source": [
        "model = getModel(10000)"
      ],
      "metadata": {
        "colab": {
          "base_uri": "https://localhost:8080/"
        },
        "id": "XyYt80Ax655g",
        "outputId": "d9e12dee-7c74-4e55-f341-5b925dbb3fda"
      },
      "execution_count": null,
      "outputs": [
        {
          "output_type": "stream",
          "name": "stdout",
          "text": [
            "Model: \"sequential\"\n",
            "_________________________________________________________________\n",
            " Layer (type)                Output Shape              Param #   \n",
            "=================================================================\n",
            " dense (Dense)               (None, 50)                500050    \n",
            "                                                                 \n",
            " dropout (Dropout)           (None, 50)                0         \n",
            "                                                                 \n",
            " dense_1 (Dense)             (None, 50)                2550      \n",
            "                                                                 \n",
            " dropout_1 (Dropout)         (None, 50)                0         \n",
            "                                                                 \n",
            " dense_2 (Dense)             (None, 50)                2550      \n",
            "                                                                 \n",
            " dense_3 (Dense)             (None, 1)                 51        \n",
            "                                                                 \n",
            "=================================================================\n",
            "Total params: 505,201\n",
            "Trainable params: 505,201\n",
            "Non-trainable params: 0\n",
            "_________________________________________________________________\n",
            "Epoch 1/2\n",
            "80/80 [==============================] - 4s 23ms/step - loss: 0.3985 - accuracy: 0.8248 - val_loss: 0.2633 - val_accuracy: 0.8933\n",
            "Epoch 2/2\n",
            "80/80 [==============================] - 1s 18ms/step - loss: 0.2139 - accuracy: 0.9189 - val_loss: 0.2672 - val_accuracy: 0.8943\n"
          ]
        }
      ]
    },
    {
      "cell_type": "markdown",
      "source": [
        "---\n",
        "**Модель 2**\n",
        "\n",
        "> Длина: 6 000\n",
        "\n",
        "> Точность: 0.9081"
      ],
      "metadata": {
        "id": "xNPYv7PhExJB"
      }
    },
    {
      "cell_type": "code",
      "source": [
        "getModel(6000)"
      ],
      "metadata": {
        "colab": {
          "base_uri": "https://localhost:8080/"
        },
        "id": "4vy7c7Aw8EHI",
        "outputId": "5534ff21-9894-4b7b-8bb7-8b5971eeac96"
      },
      "execution_count": null,
      "outputs": [
        {
          "output_type": "stream",
          "name": "stdout",
          "text": [
            "Model: \"sequential_1\"\n",
            "_________________________________________________________________\n",
            " Layer (type)                Output Shape              Param #   \n",
            "=================================================================\n",
            " dense_4 (Dense)             (None, 50)                300050    \n",
            "                                                                 \n",
            " dropout_2 (Dropout)         (None, 50)                0         \n",
            "                                                                 \n",
            " dense_5 (Dense)             (None, 50)                2550      \n",
            "                                                                 \n",
            " dropout_3 (Dropout)         (None, 50)                0         \n",
            "                                                                 \n",
            " dense_6 (Dense)             (None, 50)                2550      \n",
            "                                                                 \n",
            " dense_7 (Dense)             (None, 1)                 51        \n",
            "                                                                 \n",
            "=================================================================\n",
            "Total params: 305,201\n",
            "Trainable params: 305,201\n",
            "Non-trainable params: 0\n",
            "_________________________________________________________________\n",
            "Epoch 1/2\n",
            "88/88 [==============================] - 2s 15ms/step - loss: 0.4199 - accuracy: 0.8092 - val_loss: 0.2709 - val_accuracy: 0.8875\n",
            "Epoch 2/2\n",
            "88/88 [==============================] - 1s 11ms/step - loss: 0.2340 - accuracy: 0.9081 - val_loss: 0.2725 - val_accuracy: 0.8852\n"
          ]
        },
        {
          "output_type": "execute_result",
          "data": {
            "text/plain": [
              "<keras.callbacks.History at 0x7fed743b9090>"
            ]
          },
          "metadata": {},
          "execution_count": 7
        }
      ]
    },
    {
      "cell_type": "markdown",
      "source": [
        "---\n",
        "**Модель 3**\n",
        "\n",
        "> Длина: 1 000\n",
        "\n",
        "> Точность: 0.8567"
      ],
      "metadata": {
        "id": "KPifqzTEE1Rv"
      }
    },
    {
      "cell_type": "code",
      "source": [
        "getModel(1000)"
      ],
      "metadata": {
        "colab": {
          "base_uri": "https://localhost:8080/"
        },
        "id": "OlDAGb2C8LTs",
        "outputId": "f398e4f6-bf67-4f6a-ca0e-6c3c5e832d1d"
      },
      "execution_count": null,
      "outputs": [
        {
          "output_type": "stream",
          "name": "stdout",
          "text": [
            "Model: \"sequential_3\"\n",
            "_________________________________________________________________\n",
            " Layer (type)                Output Shape              Param #   \n",
            "=================================================================\n",
            " dense_12 (Dense)            (None, 50)                50050     \n",
            "                                                                 \n",
            " dropout_6 (Dropout)         (None, 50)                0         \n",
            "                                                                 \n",
            " dense_13 (Dense)            (None, 50)                2550      \n",
            "                                                                 \n",
            " dropout_7 (Dropout)         (None, 50)                0         \n",
            "                                                                 \n",
            " dense_14 (Dense)            (None, 50)                2550      \n",
            "                                                                 \n",
            " dense_15 (Dense)            (None, 1)                 51        \n",
            "                                                                 \n",
            "=================================================================\n",
            "Total params: 55,201\n",
            "Trainable params: 55,201\n",
            "Non-trainable params: 0\n",
            "_________________________________________________________________\n",
            "Epoch 1/2\n",
            "98/98 [==============================] - 2s 15ms/step - loss: 0.4778 - accuracy: 0.7648 - val_loss: 0.3244 - val_accuracy: 0.8530\n",
            "Epoch 2/2\n",
            "98/98 [==============================] - 0s 5ms/step - loss: 0.3344 - accuracy: 0.8567 - val_loss: 0.3017 - val_accuracy: 0.8720\n"
          ]
        },
        {
          "output_type": "execute_result",
          "data": {
            "text/plain": [
              "<keras.callbacks.History at 0x7fed747d0450>"
            ]
          },
          "metadata": {},
          "execution_count": 10
        }
      ]
    },
    {
      "cell_type": "code",
      "source": [
        "def eval(model, text, num):\n",
        "  data = keras.datasets.imdb\n",
        "  word_index = data.get_word_index()\n",
        "  my_word_index = {}\n",
        "  for k, v in word_index.items():\n",
        "    my_word_index[k]= v+3\n",
        "\n",
        "  words = text.split()\n",
        "  encoded = []\n",
        "  for word in words:\n",
        "      encoded.append(my_word_index.get(word, 0))\n",
        "  result=keras.preprocessing.sequence.pad_sequences([encoded], value=0, padding=\"post\", maxlen=300)\n",
        "  decoded=vectorize(result, num)\n",
        "  prediction = model.predict(decoded)\n",
        "  return \"Положительный обзор\" if prediction > 0.5 else \"Отрицательный обзор\"\n",
        "\n"
      ],
      "metadata": {
        "id": "82rdz3FV8VL6"
      },
      "execution_count": null,
      "outputs": []
    },
    {
      "cell_type": "markdown",
      "source": [
        "\n",
        "\n",
        "---\n",
        "\n",
        "**Пользовательский ввод**"
      ],
      "metadata": {
        "id": "8ex9jt8sFPrQ"
      }
    },
    {
      "cell_type": "code",
      "source": [
        "text = \"The movie sucks. Wouldn't recommend anybody to waste their time on it.\"\n",
        "result = eval(model.model, text, 10000)\n",
        "print(result)"
      ],
      "metadata": {
        "colab": {
          "base_uri": "https://localhost:8080/"
        },
        "id": "xFA0xq8-BC9L",
        "outputId": "988aceb8-4d83-42cf-ef31-416649579be8"
      },
      "execution_count": null,
      "outputs": [
        {
          "output_type": "stream",
          "name": "stdout",
          "text": [
            "Отрицательный обзор\n"
          ]
        }
      ]
    },
    {
      "cell_type": "code",
      "source": [
        "text = \"Got enjoyed by that movie. 5 stars out of 5\"\n",
        "result = eval(model.model, text, 10000)\n",
        "print(result)"
      ],
      "metadata": {
        "colab": {
          "base_uri": "https://localhost:8080/"
        },
        "id": "xmGPFhVhBAq_",
        "outputId": "da9e7ca4-2afe-40dc-8348-3112d7d8e1b3"
      },
      "execution_count": null,
      "outputs": [
        {
          "output_type": "stream",
          "name": "stdout",
          "text": [
            "Положительный обзор\n"
          ]
        }
      ]
    },
    {
      "cell_type": "markdown",
      "source": [
        "---\n",
        "**Выводы**\n",
        "\n",
        "> При уменьшени размера вектора представления текста точность можели снижается"
      ],
      "metadata": {
        "id": "raLyFwziE7YX"
      }
    }
  ]
}